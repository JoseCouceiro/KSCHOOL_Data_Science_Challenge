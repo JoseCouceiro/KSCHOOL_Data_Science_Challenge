{
 "cells": [
  {
   "cell_type": "markdown",
   "id": "f3a90da5",
   "metadata": {},
   "source": [
    "### KSCHOOL DATA SCIENCE CHALLENGE\n",
    "#### Simulated recruiting exercise\n",
    "This notebook contains the code to solve a total of 5 exercises of a simulated recruiting process for a data scientist.\n",
    "The input data are csv files containing information of commercial airlines and flights.\n",
    "\n",
    "The packages necessary to run this notebook can be installed using the requirements.txt file, by running \"$ conda create --name <env> --file <this file>\" in the command line"
   ]
  },
  {
   "cell_type": "markdown",
   "id": "b846be8e",
   "metadata": {},
   "source": [
    "### Exercise 1\n",
    "#### Count the number of lines in Python for each file\n",
    "The files are too big to open with pandas so I read them line by line"
   ]
  },
  {
   "cell_type": "code",
   "execution_count": 4,
   "id": "eea3c6ed",
   "metadata": {},
   "outputs": [],
   "source": [
    "import os\n",
    "import bz2\n",
    "import numpy as np\n",
    "import pandas as pd\n",
    "import seaborn as sns\n",
    "import matplotlib.pyplot as plt \n",
    "from neobase import NeoBase"
   ]
  },
  {
   "cell_type": "code",
   "execution_count": 5,
   "metadata": {},
   "outputs": [],
   "source": [
    "pd.options.mode.chained_assignment = None"
   ]
  },
  {
   "cell_type": "code",
   "execution_count": 6,
   "id": "c0664360-d35a-4fef-8d97-c11eeeb638c6",
   "metadata": {},
   "outputs": [
    {
     "name": "stdout",
     "output_type": "stream",
     "text": [
      "lines in searches.csv:  20390199\n",
      "lines in bookings.csv:  10000011\n"
     ]
    }
   ],
   "source": [
    "searches_lines = 0\n",
    "with bz2.open(os.path.join('data', 'searches.csv.bz2')) as file:\n",
    "    for line in file.readlines():\n",
    "        searches_lines +=1\n",
    "print('lines in searches.csv: ', searches_lines)\n",
    "\n",
    "book_lines = 0\n",
    "with bz2.open(os.path.join('data', 'bookings.csv.bz2')) as file:\n",
    "    for line in file.readlines():\n",
    "        book_lines +=1\n",
    "print('lines in bookings.csv: ', book_lines)"
   ]
  },
  {
   "cell_type": "markdown",
   "id": "9cebca69",
   "metadata": {},
   "source": [
    "### Exercise 2\n",
    "#### Find the top 10 arrival airports in the world in 2013 (using the bookings file)\n",
    "I need to find which ones were the airports where more people arrived in 2013. The total amount of passengers is obtained by adding up the column 'pax'. The arrival airport corresponds to column 'arr_port'."
   ]
  },
  {
   "cell_type": "markdown",
   "id": "446bac8b",
   "metadata": {},
   "source": [
    "#### Solving the problem in a sample"
   ]
  },
  {
   "cell_type": "code",
   "execution_count": 7,
   "id": "425c5557-3e1a-46de-83f7-5608c77530c4",
   "metadata": {},
   "outputs": [],
   "source": [
    "import pandas as pd\n",
    "bookings_sample = pd.read_csv(os.path.join('data', 'bookings.csv.bz2'), sep ='^', nrows=200000)\n",
    "pd.options.display.max_columns = None\n"
   ]
  },
  {
   "cell_type": "code",
   "execution_count": 8,
   "id": "1253b3e0-5a6e-41aa-87f1-d582588bb36c",
   "metadata": {},
   "outputs": [
    {
     "data": {
      "text/plain": [
       "Index(['act_date           ', 'source', 'pos_ctry', 'pos_iata', 'pos_oid  ',\n",
       "       'rloc          ', 'cre_date           ', 'duration', 'distance',\n",
       "       'dep_port', 'dep_city', 'dep_ctry', 'arr_port', 'arr_city', 'arr_ctry',\n",
       "       'lst_port', 'lst_city', 'lst_ctry', 'brd_port', 'brd_city', 'brd_ctry',\n",
       "       'off_port', 'off_city', 'off_ctry', 'mkt_port', 'mkt_city', 'mkt_ctry',\n",
       "       'intl', 'route          ', 'carrier', 'bkg_class', 'cab_class',\n",
       "       'brd_time           ', 'off_time           ', 'pax', 'year', 'month',\n",
       "       'oid      '],\n",
       "      dtype='object')"
      ]
     },
     "execution_count": 8,
     "metadata": {},
     "output_type": "execute_result"
    }
   ],
   "source": [
    "bookings_sample.columns"
   ]
  },
  {
   "cell_type": "code",
   "execution_count": 9,
   "id": "665bf54f",
   "metadata": {},
   "outputs": [
    {
     "data": {
      "text/html": [
       "<div>\n",
       "<style scoped>\n",
       "    .dataframe tbody tr th:only-of-type {\n",
       "        vertical-align: middle;\n",
       "    }\n",
       "\n",
       "    .dataframe tbody tr th {\n",
       "        vertical-align: top;\n",
       "    }\n",
       "\n",
       "    .dataframe thead th {\n",
       "        text-align: right;\n",
       "    }\n",
       "</style>\n",
       "<table border=\"1\" class=\"dataframe\">\n",
       "  <thead>\n",
       "    <tr style=\"text-align: right;\">\n",
       "      <th></th>\n",
       "      <th>pax</th>\n",
       "    </tr>\n",
       "    <tr>\n",
       "      <th>arr_port</th>\n",
       "      <th></th>\n",
       "    </tr>\n",
       "  </thead>\n",
       "  <tbody>\n",
       "    <tr>\n",
       "      <th>LHR</th>\n",
       "      <td>1974</td>\n",
       "    </tr>\n",
       "    <tr>\n",
       "      <th>MCO</th>\n",
       "      <td>1731</td>\n",
       "    </tr>\n",
       "    <tr>\n",
       "      <th>LAS</th>\n",
       "      <td>1513</td>\n",
       "    </tr>\n",
       "    <tr>\n",
       "      <th>LAX</th>\n",
       "      <td>1458</td>\n",
       "    </tr>\n",
       "    <tr>\n",
       "      <th>JFK</th>\n",
       "      <td>1398</td>\n",
       "    </tr>\n",
       "    <tr>\n",
       "      <th>CDG</th>\n",
       "      <td>1376</td>\n",
       "    </tr>\n",
       "    <tr>\n",
       "      <th>SFO</th>\n",
       "      <td>1321</td>\n",
       "    </tr>\n",
       "    <tr>\n",
       "      <th>MIA</th>\n",
       "      <td>1291</td>\n",
       "    </tr>\n",
       "    <tr>\n",
       "      <th>BKK</th>\n",
       "      <td>1280</td>\n",
       "    </tr>\n",
       "    <tr>\n",
       "      <th>ORD</th>\n",
       "      <td>1181</td>\n",
       "    </tr>\n",
       "  </tbody>\n",
       "</table>\n",
       "</div>"
      ],
      "text/plain": [
       "           pax\n",
       "arr_port      \n",
       "LHR       1974\n",
       "MCO       1731\n",
       "LAS       1513\n",
       "LAX       1458\n",
       "JFK       1398\n",
       "CDG       1376\n",
       "SFO       1321\n",
       "MIA       1291\n",
       "BKK       1280\n",
       "ORD       1181"
      ]
     },
     "execution_count": 9,
     "metadata": {},
     "output_type": "execute_result"
    }
   ],
   "source": [
    "bookings_sample[bookings_sample['year']==2013].groupby('arr_port').sum()[['pax']].sort_values(by='pax', ascending=False).head(10)"
   ]
  },
  {
   "cell_type": "markdown",
   "id": "e6229e89",
   "metadata": {},
   "source": [
    "#### Solving the problem using chunks\n",
    "I made first a toy problem with two chunks adding up to 20000 rows, so the solution should be the same as above."
   ]
  },
  {
   "cell_type": "code",
   "execution_count": 10,
   "id": "3710e34c-fbb2-4abf-9621-244a123214cb",
   "metadata": {},
   "outputs": [],
   "source": [
    "bookings_sample = pd.read_csv(os.path.join('data', 'bookings.csv.bz2'), sep='^', nrows=20000, chunksize=10000)"
   ]
  },
  {
   "cell_type": "markdown",
   "id": "ae848844",
   "metadata": {},
   "source": [
    "I added up the amount of passengers in each chunk and saved it in a list"
   ]
  },
  {
   "cell_type": "code",
   "execution_count": 11,
   "id": "f37f66bf",
   "metadata": {},
   "outputs": [],
   "source": [
    "list_iterations = []\n",
    "for chunk in bookings_sample:\n",
    "    iteration = chunk[chunk['year']==2013].groupby('arr_port').sum()[['pax']]\n",
    "    list_iterations.append(iteration)"
   ]
  },
  {
   "cell_type": "markdown",
   "id": "58f0a3d0",
   "metadata": {},
   "source": [
    "Finally, I added up every chunk"
   ]
  },
  {
   "cell_type": "code",
   "execution_count": 12,
   "id": "2671a25c",
   "metadata": {},
   "outputs": [
    {
     "data": {
      "text/html": [
       "<div>\n",
       "<style scoped>\n",
       "    .dataframe tbody tr th:only-of-type {\n",
       "        vertical-align: middle;\n",
       "    }\n",
       "\n",
       "    .dataframe tbody tr th {\n",
       "        vertical-align: top;\n",
       "    }\n",
       "\n",
       "    .dataframe thead th {\n",
       "        text-align: right;\n",
       "    }\n",
       "</style>\n",
       "<table border=\"1\" class=\"dataframe\">\n",
       "  <thead>\n",
       "    <tr style=\"text-align: right;\">\n",
       "      <th></th>\n",
       "      <th>pax</th>\n",
       "    </tr>\n",
       "    <tr>\n",
       "      <th>arr_port</th>\n",
       "      <th></th>\n",
       "    </tr>\n",
       "  </thead>\n",
       "  <tbody>\n",
       "    <tr>\n",
       "      <th>JFK</th>\n",
       "      <td>195</td>\n",
       "    </tr>\n",
       "    <tr>\n",
       "      <th>MCO</th>\n",
       "      <td>192</td>\n",
       "    </tr>\n",
       "    <tr>\n",
       "      <th>LHR</th>\n",
       "      <td>182</td>\n",
       "    </tr>\n",
       "    <tr>\n",
       "      <th>ORD</th>\n",
       "      <td>173</td>\n",
       "    </tr>\n",
       "    <tr>\n",
       "      <th>LGA</th>\n",
       "      <td>160</td>\n",
       "    </tr>\n",
       "    <tr>\n",
       "      <th>LAX</th>\n",
       "      <td>154</td>\n",
       "    </tr>\n",
       "    <tr>\n",
       "      <th>PRG</th>\n",
       "      <td>154</td>\n",
       "    </tr>\n",
       "    <tr>\n",
       "      <th>EWR</th>\n",
       "      <td>149</td>\n",
       "    </tr>\n",
       "    <tr>\n",
       "      <th>SFO</th>\n",
       "      <td>147</td>\n",
       "    </tr>\n",
       "    <tr>\n",
       "      <th>LAS</th>\n",
       "      <td>146</td>\n",
       "    </tr>\n",
       "  </tbody>\n",
       "</table>\n",
       "</div>"
      ],
      "text/plain": [
       "          pax\n",
       "arr_port     \n",
       "JFK       195\n",
       "MCO       192\n",
       "LHR       182\n",
       "ORD       173\n",
       "LGA       160\n",
       "LAX       154\n",
       "PRG       154\n",
       "EWR       149\n",
       "SFO       147\n",
       "LAS       146"
      ]
     },
     "execution_count": 12,
     "metadata": {},
     "output_type": "execute_result"
    }
   ],
   "source": [
    "data_concat = pd.concat(list_iterations).groupby('arr_port').sum()[['pax']]\n",
    "data_concat.sort_values(by = 'pax', ascending = False).head(10)\n"
   ]
  },
  {
   "cell_type": "markdown",
   "id": "479fe24b",
   "metadata": {},
   "source": [
    "#### Final solution"
   ]
  },
  {
   "cell_type": "markdown",
   "id": "25d185e0",
   "metadata": {},
   "source": [
    "I repeated the code of the toy problem using all the data"
   ]
  },
  {
   "cell_type": "code",
   "execution_count": 13,
   "id": "a8afbb84",
   "metadata": {},
   "outputs": [],
   "source": [
    "bookings_sample = pd.read_csv(os.path.join('data', 'bookings.csv.bz2'), sep='^', chunksize=100000, low_memory=False)"
   ]
  },
  {
   "cell_type": "code",
   "execution_count": 14,
   "id": "1470f1c5",
   "metadata": {},
   "outputs": [],
   "source": [
    "list_iterations = []\n",
    "for chunk in bookings_sample:\n",
    "    iteration = chunk[chunk['year']==2013].groupby('arr_port').sum()[['pax']]\n",
    "    list_iterations.append(iteration)"
   ]
  },
  {
   "cell_type": "code",
   "execution_count": 15,
   "id": "e1fb651f",
   "metadata": {},
   "outputs": [
    {
     "data": {
      "text/html": [
       "<div>\n",
       "<style scoped>\n",
       "    .dataframe tbody tr th:only-of-type {\n",
       "        vertical-align: middle;\n",
       "    }\n",
       "\n",
       "    .dataframe tbody tr th {\n",
       "        vertical-align: top;\n",
       "    }\n",
       "\n",
       "    .dataframe thead th {\n",
       "        text-align: right;\n",
       "    }\n",
       "</style>\n",
       "<table border=\"1\" class=\"dataframe\">\n",
       "  <thead>\n",
       "    <tr style=\"text-align: right;\">\n",
       "      <th></th>\n",
       "      <th>pax</th>\n",
       "    </tr>\n",
       "    <tr>\n",
       "      <th>arr_port</th>\n",
       "      <th></th>\n",
       "    </tr>\n",
       "  </thead>\n",
       "  <tbody>\n",
       "    <tr>\n",
       "      <th>LHR</th>\n",
       "      <td>88809.0</td>\n",
       "    </tr>\n",
       "    <tr>\n",
       "      <th>MCO</th>\n",
       "      <td>70930.0</td>\n",
       "    </tr>\n",
       "    <tr>\n",
       "      <th>LAX</th>\n",
       "      <td>70530.0</td>\n",
       "    </tr>\n",
       "    <tr>\n",
       "      <th>LAS</th>\n",
       "      <td>69630.0</td>\n",
       "    </tr>\n",
       "    <tr>\n",
       "      <th>JFK</th>\n",
       "      <td>66270.0</td>\n",
       "    </tr>\n",
       "    <tr>\n",
       "      <th>CDG</th>\n",
       "      <td>64490.0</td>\n",
       "    </tr>\n",
       "    <tr>\n",
       "      <th>BKK</th>\n",
       "      <td>59460.0</td>\n",
       "    </tr>\n",
       "    <tr>\n",
       "      <th>MIA</th>\n",
       "      <td>58150.0</td>\n",
       "    </tr>\n",
       "    <tr>\n",
       "      <th>SFO</th>\n",
       "      <td>58000.0</td>\n",
       "    </tr>\n",
       "    <tr>\n",
       "      <th>DXB</th>\n",
       "      <td>55590.0</td>\n",
       "    </tr>\n",
       "  </tbody>\n",
       "</table>\n",
       "</div>"
      ],
      "text/plain": [
       "              pax\n",
       "arr_port         \n",
       "LHR       88809.0\n",
       "MCO       70930.0\n",
       "LAX       70530.0\n",
       "LAS       69630.0\n",
       "JFK       66270.0\n",
       "CDG       64490.0\n",
       "BKK       59460.0\n",
       "MIA       58150.0\n",
       "SFO       58000.0\n",
       "DXB       55590.0"
      ]
     },
     "metadata": {},
     "output_type": "display_data"
    }
   ],
   "source": [
    "data_concat = pd.concat(list_iterations).groupby('arr_port').sum()[['pax']]\n",
    "solution = data_concat.sort_values(by='pax', ascending=False).head(10)\n",
    "display(solution)"
   ]
  },
  {
   "cell_type": "markdown",
   "id": "ec154613",
   "metadata": {},
   "source": [
    "#### Bonus point: Get the name of the city or airport corresponding to that airport\n",
    "I used the neobase library. With the function 'get', you can retrieve the name of the city from the code of the airport."
   ]
  },
  {
   "cell_type": "code",
   "execution_count": 16,
   "id": "e095bcf7",
   "metadata": {},
   "outputs": [
    {
     "data": {
      "text/plain": [
       "'Paris'"
      ]
     },
     "execution_count": 16,
     "metadata": {},
     "output_type": "execute_result"
    }
   ],
   "source": [
    "nb = NeoBase()\n",
    "nb.get('ORY', 'city_name_list')[0]"
   ]
  },
  {
   "cell_type": "markdown",
   "id": "bc343b57",
   "metadata": {},
   "source": [
    "I made a 'foor loop' to obtain a list of the city names"
   ]
  },
  {
   "cell_type": "code",
   "execution_count": 17,
   "id": "3230d727",
   "metadata": {},
   "outputs": [],
   "source": [
    "city_names = []\n",
    "for city in solution.index:\n",
    "    city_names.append(nb.get(city.strip(), 'city_name_list')[0])"
   ]
  },
  {
   "cell_type": "code",
   "execution_count": 18,
   "id": "bb4fd0e3",
   "metadata": {},
   "outputs": [
    {
     "data": {
      "text/plain": [
       "['London',\n",
       " 'Orlando',\n",
       " 'Los Angeles',\n",
       " 'Las Vegas',\n",
       " 'New York City',\n",
       " 'Paris',\n",
       " 'Bangkok',\n",
       " 'Miami',\n",
       " 'San Francisco',\n",
       " 'Dubai']"
      ]
     },
     "execution_count": 18,
     "metadata": {},
     "output_type": "execute_result"
    }
   ],
   "source": [
    "city_names"
   ]
  },
  {
   "cell_type": "markdown",
   "id": "a203d298",
   "metadata": {},
   "source": [
    "Then I added the city names to the solution tables"
   ]
  },
  {
   "cell_type": "code",
   "execution_count": 19,
   "id": "fa759237",
   "metadata": {},
   "outputs": [],
   "source": [
    "solution['city'] = city_names"
   ]
  },
  {
   "cell_type": "code",
   "execution_count": 20,
   "id": "92501d03",
   "metadata": {},
   "outputs": [
    {
     "data": {
      "text/html": [
       "<div>\n",
       "<style scoped>\n",
       "    .dataframe tbody tr th:only-of-type {\n",
       "        vertical-align: middle;\n",
       "    }\n",
       "\n",
       "    .dataframe tbody tr th {\n",
       "        vertical-align: top;\n",
       "    }\n",
       "\n",
       "    .dataframe thead th {\n",
       "        text-align: right;\n",
       "    }\n",
       "</style>\n",
       "<table border=\"1\" class=\"dataframe\">\n",
       "  <thead>\n",
       "    <tr style=\"text-align: right;\">\n",
       "      <th></th>\n",
       "      <th>pax</th>\n",
       "      <th>city</th>\n",
       "    </tr>\n",
       "    <tr>\n",
       "      <th>arr_port</th>\n",
       "      <th></th>\n",
       "      <th></th>\n",
       "    </tr>\n",
       "  </thead>\n",
       "  <tbody>\n",
       "    <tr>\n",
       "      <th>LHR</th>\n",
       "      <td>88809.0</td>\n",
       "      <td>London</td>\n",
       "    </tr>\n",
       "    <tr>\n",
       "      <th>MCO</th>\n",
       "      <td>70930.0</td>\n",
       "      <td>Orlando</td>\n",
       "    </tr>\n",
       "    <tr>\n",
       "      <th>LAX</th>\n",
       "      <td>70530.0</td>\n",
       "      <td>Los Angeles</td>\n",
       "    </tr>\n",
       "    <tr>\n",
       "      <th>LAS</th>\n",
       "      <td>69630.0</td>\n",
       "      <td>Las Vegas</td>\n",
       "    </tr>\n",
       "    <tr>\n",
       "      <th>JFK</th>\n",
       "      <td>66270.0</td>\n",
       "      <td>New York City</td>\n",
       "    </tr>\n",
       "    <tr>\n",
       "      <th>CDG</th>\n",
       "      <td>64490.0</td>\n",
       "      <td>Paris</td>\n",
       "    </tr>\n",
       "    <tr>\n",
       "      <th>BKK</th>\n",
       "      <td>59460.0</td>\n",
       "      <td>Bangkok</td>\n",
       "    </tr>\n",
       "    <tr>\n",
       "      <th>MIA</th>\n",
       "      <td>58150.0</td>\n",
       "      <td>Miami</td>\n",
       "    </tr>\n",
       "    <tr>\n",
       "      <th>SFO</th>\n",
       "      <td>58000.0</td>\n",
       "      <td>San Francisco</td>\n",
       "    </tr>\n",
       "    <tr>\n",
       "      <th>DXB</th>\n",
       "      <td>55590.0</td>\n",
       "      <td>Dubai</td>\n",
       "    </tr>\n",
       "  </tbody>\n",
       "</table>\n",
       "</div>"
      ],
      "text/plain": [
       "              pax           city\n",
       "arr_port                        \n",
       "LHR       88809.0         London\n",
       "MCO       70930.0        Orlando\n",
       "LAX       70530.0    Los Angeles\n",
       "LAS       69630.0      Las Vegas\n",
       "JFK       66270.0  New York City\n",
       "CDG       64490.0          Paris\n",
       "BKK       59460.0        Bangkok\n",
       "MIA       58150.0          Miami\n",
       "SFO       58000.0  San Francisco\n",
       "DXB       55590.0          Dubai"
      ]
     },
     "metadata": {},
     "output_type": "display_data"
    }
   ],
   "source": [
    "display(solution)"
   ]
  },
  {
   "cell_type": "markdown",
   "id": "e3cdcb15",
   "metadata": {},
   "source": [
    "### Exercise 3\n",
    "#### Plot the monthly number of searches for flights arriving at Málaga, Madrid or Barcelona on 2013. Plot a curve for each of the airports in the same figure\n",
    "I needed to use the 'searches' csv file for this\n",
    "Arriving airport can be found in the destination column"
   ]
  },
  {
   "cell_type": "markdown",
   "id": "0d22d183",
   "metadata": {},
   "source": [
    "#### Solving the problem in a sample"
   ]
  },
  {
   "cell_type": "code",
   "execution_count": 21,
   "id": "3861f168",
   "metadata": {},
   "outputs": [
    {
     "data": {
      "text/plain": [
       "Index(['Date', 'Time', 'TxnCode', 'OfficeID', 'Country', 'Origin',\n",
       "       'Destination', 'RoundTrip', 'NbSegments', 'Seg1Departure',\n",
       "       'Seg1Arrival', 'Seg1Date', 'Seg1Carrier', 'Seg1BookingCode',\n",
       "       'Seg2Departure', 'Seg2Arrival', 'Seg2Date', 'Seg2Carrier',\n",
       "       'Seg2BookingCode', 'Seg3Departure', 'Seg3Arrival', 'Seg3Date',\n",
       "       'Seg3Carrier', 'Seg3BookingCode', 'Seg4Departure', 'Seg4Arrival',\n",
       "       'Seg4Date', 'Seg4Carrier', 'Seg4BookingCode', 'Seg5Departure',\n",
       "       'Seg5Arrival', 'Seg5Date', 'Seg5Carrier', 'Seg5BookingCode',\n",
       "       'Seg6Departure', 'Seg6Arrival', 'Seg6Date', 'Seg6Carrier',\n",
       "       'Seg6BookingCode', 'From', 'IsPublishedForNeg', 'IsFromInternet',\n",
       "       'IsFromVista', 'TerminalID', 'InternetOffice'],\n",
       "      dtype='object')"
      ]
     },
     "execution_count": 21,
     "metadata": {},
     "output_type": "execute_result"
    }
   ],
   "source": [
    "searches_sample= pd.read_csv(os.path.join('data', 'searches.csv.bz2'), sep=\"^\", nrows=60000)\n",
    "searches_sample.columns"
   ]
  },
  {
   "cell_type": "markdown",
   "id": "933dc8f8",
   "metadata": {},
   "source": [
    "I selected the necessary columns ('Date' and 'Destination'). From that dataframe I selected the relevant rows: those where destination is Madrid ('MAD'), Barcelona ('BCN') or Málaga ('AGP')."
   ]
  },
  {
   "cell_type": "code",
   "execution_count": 22,
   "id": "157317ff",
   "metadata": {},
   "outputs": [],
   "source": [
    "searches_sample_columns = searches_sample[['Date','Destination']]"
   ]
  },
  {
   "cell_type": "code",
   "execution_count": 23,
   "id": "06d8cce7",
   "metadata": {},
   "outputs": [],
   "source": [
    "searches_sample_columns_clean = searches_sample_columns[searches_sample_columns['Destination'].isin(('MAD','BCN','AGP'))]"
   ]
  },
  {
   "cell_type": "code",
   "execution_count": 24,
   "id": "58f72b44",
   "metadata": {},
   "outputs": [
    {
     "data": {
      "text/html": [
       "<div>\n",
       "<style scoped>\n",
       "    .dataframe tbody tr th:only-of-type {\n",
       "        vertical-align: middle;\n",
       "    }\n",
       "\n",
       "    .dataframe tbody tr th {\n",
       "        vertical-align: top;\n",
       "    }\n",
       "\n",
       "    .dataframe thead th {\n",
       "        text-align: right;\n",
       "    }\n",
       "</style>\n",
       "<table border=\"1\" class=\"dataframe\">\n",
       "  <thead>\n",
       "    <tr style=\"text-align: right;\">\n",
       "      <th></th>\n",
       "      <th>Date</th>\n",
       "      <th>Destination</th>\n",
       "    </tr>\n",
       "  </thead>\n",
       "  <tbody>\n",
       "    <tr>\n",
       "      <th>4</th>\n",
       "      <td>2013-01-01</td>\n",
       "      <td>MAD</td>\n",
       "    </tr>\n",
       "    <tr>\n",
       "      <th>93</th>\n",
       "      <td>2013-01-01</td>\n",
       "      <td>AGP</td>\n",
       "    </tr>\n",
       "    <tr>\n",
       "      <th>113</th>\n",
       "      <td>2013-01-01</td>\n",
       "      <td>BCN</td>\n",
       "    </tr>\n",
       "    <tr>\n",
       "      <th>147</th>\n",
       "      <td>2013-01-01</td>\n",
       "      <td>AGP</td>\n",
       "    </tr>\n",
       "    <tr>\n",
       "      <th>151</th>\n",
       "      <td>2013-01-01</td>\n",
       "      <td>MAD</td>\n",
       "    </tr>\n",
       "  </tbody>\n",
       "</table>\n",
       "</div>"
      ],
      "text/plain": [
       "           Date Destination\n",
       "4    2013-01-01         MAD\n",
       "93   2013-01-01         AGP\n",
       "113  2013-01-01         BCN\n",
       "147  2013-01-01         AGP\n",
       "151  2013-01-01         MAD"
      ]
     },
     "execution_count": 24,
     "metadata": {},
     "output_type": "execute_result"
    }
   ],
   "source": [
    "searches_sample_columns_clean.head()"
   ]
  },
  {
   "cell_type": "markdown",
   "id": "2a238bc3",
   "metadata": {},
   "source": [
    "I added a column to keep the counts"
   ]
  },
  {
   "cell_type": "code",
   "execution_count": 25,
   "id": "1abb6e83",
   "metadata": {},
   "outputs": [
    {
     "data": {
      "text/html": [
       "<div>\n",
       "<style scoped>\n",
       "    .dataframe tbody tr th:only-of-type {\n",
       "        vertical-align: middle;\n",
       "    }\n",
       "\n",
       "    .dataframe tbody tr th {\n",
       "        vertical-align: top;\n",
       "    }\n",
       "\n",
       "    .dataframe thead th {\n",
       "        text-align: right;\n",
       "    }\n",
       "</style>\n",
       "<table border=\"1\" class=\"dataframe\">\n",
       "  <thead>\n",
       "    <tr style=\"text-align: right;\">\n",
       "      <th></th>\n",
       "      <th>Date</th>\n",
       "      <th>Destination</th>\n",
       "      <th>counter</th>\n",
       "    </tr>\n",
       "  </thead>\n",
       "  <tbody>\n",
       "    <tr>\n",
       "      <th>4</th>\n",
       "      <td>2013-01-01</td>\n",
       "      <td>MAD</td>\n",
       "      <td>1</td>\n",
       "    </tr>\n",
       "    <tr>\n",
       "      <th>93</th>\n",
       "      <td>2013-01-01</td>\n",
       "      <td>AGP</td>\n",
       "      <td>1</td>\n",
       "    </tr>\n",
       "    <tr>\n",
       "      <th>113</th>\n",
       "      <td>2013-01-01</td>\n",
       "      <td>BCN</td>\n",
       "      <td>1</td>\n",
       "    </tr>\n",
       "    <tr>\n",
       "      <th>147</th>\n",
       "      <td>2013-01-01</td>\n",
       "      <td>AGP</td>\n",
       "      <td>1</td>\n",
       "    </tr>\n",
       "    <tr>\n",
       "      <th>151</th>\n",
       "      <td>2013-01-01</td>\n",
       "      <td>MAD</td>\n",
       "      <td>1</td>\n",
       "    </tr>\n",
       "  </tbody>\n",
       "</table>\n",
       "</div>"
      ],
      "text/plain": [
       "           Date Destination  counter\n",
       "4    2013-01-01         MAD        1\n",
       "93   2013-01-01         AGP        1\n",
       "113  2013-01-01         BCN        1\n",
       "147  2013-01-01         AGP        1\n",
       "151  2013-01-01         MAD        1"
      ]
     },
     "execution_count": 25,
     "metadata": {},
     "output_type": "execute_result"
    }
   ],
   "source": [
    "searches_sample_columns_clean['counter'] = 1\n",
    "searches_sample_columns_clean.head()"
   ]
  },
  {
   "cell_type": "markdown",
   "id": "b242565d",
   "metadata": {},
   "source": [
    "Next, I extracted the month value from the date using the pandas method 'str'."
   ]
  },
  {
   "cell_type": "code",
   "execution_count": 26,
   "id": "e92efe7b",
   "metadata": {},
   "outputs": [],
   "source": [
    "searches_sample_columns_clean['Date'] = searches_sample_columns_clean['Date'].str[5:7]"
   ]
  },
  {
   "cell_type": "code",
   "execution_count": 27,
   "id": "72b7a2b6",
   "metadata": {},
   "outputs": [
    {
     "data": {
      "text/html": [
       "<div>\n",
       "<style scoped>\n",
       "    .dataframe tbody tr th:only-of-type {\n",
       "        vertical-align: middle;\n",
       "    }\n",
       "\n",
       "    .dataframe tbody tr th {\n",
       "        vertical-align: top;\n",
       "    }\n",
       "\n",
       "    .dataframe thead th {\n",
       "        text-align: right;\n",
       "    }\n",
       "</style>\n",
       "<table border=\"1\" class=\"dataframe\">\n",
       "  <thead>\n",
       "    <tr style=\"text-align: right;\">\n",
       "      <th></th>\n",
       "      <th>Date</th>\n",
       "      <th>Destination</th>\n",
       "      <th>counter</th>\n",
       "    </tr>\n",
       "  </thead>\n",
       "  <tbody>\n",
       "    <tr>\n",
       "      <th>4</th>\n",
       "      <td>01</td>\n",
       "      <td>MAD</td>\n",
       "      <td>1</td>\n",
       "    </tr>\n",
       "    <tr>\n",
       "      <th>93</th>\n",
       "      <td>01</td>\n",
       "      <td>AGP</td>\n",
       "      <td>1</td>\n",
       "    </tr>\n",
       "    <tr>\n",
       "      <th>113</th>\n",
       "      <td>01</td>\n",
       "      <td>BCN</td>\n",
       "      <td>1</td>\n",
       "    </tr>\n",
       "    <tr>\n",
       "      <th>147</th>\n",
       "      <td>01</td>\n",
       "      <td>AGP</td>\n",
       "      <td>1</td>\n",
       "    </tr>\n",
       "    <tr>\n",
       "      <th>151</th>\n",
       "      <td>01</td>\n",
       "      <td>MAD</td>\n",
       "      <td>1</td>\n",
       "    </tr>\n",
       "    <tr>\n",
       "      <th>...</th>\n",
       "      <td>...</td>\n",
       "      <td>...</td>\n",
       "      <td>...</td>\n",
       "    </tr>\n",
       "    <tr>\n",
       "      <th>59888</th>\n",
       "      <td>03</td>\n",
       "      <td>AGP</td>\n",
       "      <td>1</td>\n",
       "    </tr>\n",
       "    <tr>\n",
       "      <th>59942</th>\n",
       "      <td>03</td>\n",
       "      <td>MAD</td>\n",
       "      <td>1</td>\n",
       "    </tr>\n",
       "    <tr>\n",
       "      <th>59950</th>\n",
       "      <td>03</td>\n",
       "      <td>BCN</td>\n",
       "      <td>1</td>\n",
       "    </tr>\n",
       "    <tr>\n",
       "      <th>59961</th>\n",
       "      <td>03</td>\n",
       "      <td>MAD</td>\n",
       "      <td>1</td>\n",
       "    </tr>\n",
       "    <tr>\n",
       "      <th>59976</th>\n",
       "      <td>03</td>\n",
       "      <td>BCN</td>\n",
       "      <td>1</td>\n",
       "    </tr>\n",
       "  </tbody>\n",
       "</table>\n",
       "<p>2190 rows × 3 columns</p>\n",
       "</div>"
      ],
      "text/plain": [
       "      Date Destination  counter\n",
       "4       01         MAD        1\n",
       "93      01         AGP        1\n",
       "113     01         BCN        1\n",
       "147     01         AGP        1\n",
       "151     01         MAD        1\n",
       "...    ...         ...      ...\n",
       "59888   03         AGP        1\n",
       "59942   03         MAD        1\n",
       "59950   03         BCN        1\n",
       "59961   03         MAD        1\n",
       "59976   03         BCN        1\n",
       "\n",
       "[2190 rows x 3 columns]"
      ]
     },
     "execution_count": 27,
     "metadata": {},
     "output_type": "execute_result"
    }
   ],
   "source": [
    "searches_sample_columns_clean"
   ]
  },
  {
   "cell_type": "markdown",
   "id": "7f2bc4dc",
   "metadata": {},
   "source": [
    "Then, I obtained the solution using a 'groupby'"
   ]
  },
  {
   "cell_type": "code",
   "execution_count": 28,
   "id": "679bc3c2",
   "metadata": {},
   "outputs": [],
   "source": [
    "df_solution = searches_sample_columns_clean.groupby(['Destination','Date']).count().reset_index()"
   ]
  },
  {
   "cell_type": "code",
   "execution_count": 29,
   "id": "ac18dcab",
   "metadata": {},
   "outputs": [
    {
     "data": {
      "text/html": [
       "<div>\n",
       "<style scoped>\n",
       "    .dataframe tbody tr th:only-of-type {\n",
       "        vertical-align: middle;\n",
       "    }\n",
       "\n",
       "    .dataframe tbody tr th {\n",
       "        vertical-align: top;\n",
       "    }\n",
       "\n",
       "    .dataframe thead th {\n",
       "        text-align: right;\n",
       "    }\n",
       "</style>\n",
       "<table border=\"1\" class=\"dataframe\">\n",
       "  <thead>\n",
       "    <tr style=\"text-align: right;\">\n",
       "      <th></th>\n",
       "      <th>Destination</th>\n",
       "      <th>Date</th>\n",
       "      <th>counter</th>\n",
       "    </tr>\n",
       "  </thead>\n",
       "  <tbody>\n",
       "    <tr>\n",
       "      <th>0</th>\n",
       "      <td>AGP</td>\n",
       "      <td>01</td>\n",
       "      <td>169</td>\n",
       "    </tr>\n",
       "    <tr>\n",
       "      <th>1</th>\n",
       "      <td>AGP</td>\n",
       "      <td>02</td>\n",
       "      <td>147</td>\n",
       "    </tr>\n",
       "    <tr>\n",
       "      <th>2</th>\n",
       "      <td>AGP</td>\n",
       "      <td>03</td>\n",
       "      <td>7</td>\n",
       "    </tr>\n",
       "    <tr>\n",
       "      <th>3</th>\n",
       "      <td>BCN</td>\n",
       "      <td>01</td>\n",
       "      <td>517</td>\n",
       "    </tr>\n",
       "    <tr>\n",
       "      <th>4</th>\n",
       "      <td>BCN</td>\n",
       "      <td>02</td>\n",
       "      <td>497</td>\n",
       "    </tr>\n",
       "    <tr>\n",
       "      <th>5</th>\n",
       "      <td>BCN</td>\n",
       "      <td>03</td>\n",
       "      <td>14</td>\n",
       "    </tr>\n",
       "    <tr>\n",
       "      <th>6</th>\n",
       "      <td>MAD</td>\n",
       "      <td>01</td>\n",
       "      <td>425</td>\n",
       "    </tr>\n",
       "    <tr>\n",
       "      <th>7</th>\n",
       "      <td>MAD</td>\n",
       "      <td>02</td>\n",
       "      <td>400</td>\n",
       "    </tr>\n",
       "    <tr>\n",
       "      <th>8</th>\n",
       "      <td>MAD</td>\n",
       "      <td>03</td>\n",
       "      <td>14</td>\n",
       "    </tr>\n",
       "  </tbody>\n",
       "</table>\n",
       "</div>"
      ],
      "text/plain": [
       "  Destination Date  counter\n",
       "0         AGP   01      169\n",
       "1         AGP   02      147\n",
       "2         AGP   03        7\n",
       "3         BCN   01      517\n",
       "4         BCN   02      497\n",
       "5         BCN   03       14\n",
       "6         MAD   01      425\n",
       "7         MAD   02      400\n",
       "8         MAD   03       14"
      ]
     },
     "execution_count": 29,
     "metadata": {},
     "output_type": "execute_result"
    }
   ],
   "source": [
    "df_solution"
   ]
  },
  {
   "cell_type": "code",
   "execution_count": 33,
   "id": "295f8d79",
   "metadata": {},
   "outputs": [
    {
     "data": {
      "text/plain": [
       "Text(0, 0.5, 'Number of reservations')"
      ]
     },
     "execution_count": 33,
     "metadata": {},
     "output_type": "execute_result"
    },
    {
     "data": {
      "image/png": "[encoded data removed]",
      "text/plain": [
       "<Figure size 640x480 with 1 Axes>"
      ]
     },
     "metadata": {},
     "output_type": "display_data"
    }
   ],
   "source": [
    "sns.lineplot(data=df_solution,x='Date',y='counter',hue='Destination')\n",
    "plt.ylabel(\"Number of reservations\")"
   ]
  },
  {
   "cell_type": "markdown",
   "id": "0b0b1d5b",
   "metadata": {},
   "source": [
    "#### Solving the exercise using chunks"
   ]
  },
  {
   "cell_type": "code",
   "execution_count": 34,
   "id": "47bd02ab",
   "metadata": {},
   "outputs": [],
   "source": [
    "searches = pd.read_csv(os.path.join('data', 'searches.csv.bz2'), sep=\"^\", usecols=(['Date','Destination']), chunksize=50000)"
   ]
  },
  {
   "cell_type": "markdown",
   "id": "4703f76f",
   "metadata": {},
   "source": [
    "I got the counts for each chunk in a 'for loop' and save them in a list"
   ]
  },
  {
   "cell_type": "code",
   "execution_count": 37,
   "id": "2028420d",
   "metadata": {},
   "outputs": [],
   "source": [
    "partial_results = []\n",
    "for chunk in searches:\n",
    "    chunk = chunk[['Date','Destination']]\n",
    "    chunk_dest = chunk[chunk['Destination'].isin(('MAD','BCN','AGP'))]\n",
    "    chunk_dest['Counter'] = 1\n",
    "    chunk_dest['Date'] = chunk_dest['Date'].str[5:7]\n",
    "    chunk_group = chunk_dest.groupby(['Destination','Date']).count().reset_index()\n",
    "    partial_results.append(chunk_group)"
   ]
  },
  {
   "cell_type": "markdown",
   "id": "171b81e6",
   "metadata": {},
   "source": [
    "Then I got the solution concatenating the items of the list, doing the groupby and the sum"
   ]
  },
  {
   "cell_type": "code",
   "execution_count": 38,
   "id": "68db8980",
   "metadata": {},
   "outputs": [
    {
     "data": {
      "text/html": [
       "<div>\n",
       "<style scoped>\n",
       "    .dataframe tbody tr th:only-of-type {\n",
       "        vertical-align: middle;\n",
       "    }\n",
       "\n",
       "    .dataframe tbody tr th {\n",
       "        vertical-align: top;\n",
       "    }\n",
       "\n",
       "    .dataframe thead th {\n",
       "        text-align: right;\n",
       "    }\n",
       "</style>\n",
       "<table border=\"1\" class=\"dataframe\">\n",
       "  <thead>\n",
       "    <tr style=\"text-align: right;\">\n",
       "      <th></th>\n",
       "      <th>Date</th>\n",
       "      <th>Destination</th>\n",
       "      <th>Counter</th>\n",
       "    </tr>\n",
       "  </thead>\n",
       "  <tbody>\n",
       "    <tr>\n",
       "      <th>0</th>\n",
       "      <td>01</td>\n",
       "      <td>AGP</td>\n",
       "      <td>8450</td>\n",
       "    </tr>\n",
       "    <tr>\n",
       "      <th>1</th>\n",
       "      <td>01</td>\n",
       "      <td>BCN</td>\n",
       "      <td>25850</td>\n",
       "    </tr>\n",
       "    <tr>\n",
       "      <th>2</th>\n",
       "      <td>01</td>\n",
       "      <td>MAD</td>\n",
       "      <td>21280</td>\n",
       "    </tr>\n",
       "    <tr>\n",
       "      <th>3</th>\n",
       "      <td>02</td>\n",
       "      <td>AGP</td>\n",
       "      <td>7350</td>\n",
       "    </tr>\n",
       "    <tr>\n",
       "      <th>4</th>\n",
       "      <td>02</td>\n",
       "      <td>BCN</td>\n",
       "      <td>24850</td>\n",
       "    </tr>\n",
       "  </tbody>\n",
       "</table>\n",
       "</div>"
      ],
      "text/plain": [
       "  Date Destination  Counter\n",
       "0   01         AGP     8450\n",
       "1   01         BCN    25850\n",
       "2   01         MAD    21280\n",
       "3   02         AGP     7350\n",
       "4   02         BCN    24850"
      ]
     },
     "execution_count": 38,
     "metadata": {},
     "output_type": "execute_result"
    }
   ],
   "source": [
    "total = pd.concat(partial_results).groupby(['Date','Destination']).sum()[['Counter']].reset_index()\n",
    "total.head()"
   ]
  },
  {
   "cell_type": "markdown",
   "id": "8aa09bf9",
   "metadata": {},
   "source": [
    "Finally, I plotted the figure"
   ]
  },
  {
   "cell_type": "code",
   "execution_count": 39,
   "id": "2cc28fbb",
   "metadata": {},
   "outputs": [
    {
     "data": {
      "text/plain": [
       "Text(0, 0.5, 'Number of reservations')"
      ]
     },
     "execution_count": 39,
     "metadata": {},
     "output_type": "execute_result"
    },
    {
     "data": {
      "image/png": "[encoded data removed]",
      "text/plain": [
       "<Figure size 640x480 with 1 Axes>"
      ]
     },
     "metadata": {},
     "output_type": "display_data"
    }
   ],
   "source": [
    "sns.lineplot(data=total, x='Date', y='Counter', hue='Destination')\n",
    "plt.ylabel(\"Number of reservations\")"
   ]
  },
  {
   "cell_type": "markdown",
   "id": "fbba120d",
   "metadata": {},
   "source": [
    "### Exercise 4\n",
    "#### Match searches with booking\n",
    "For every search in the searches file, find out whether the search ended up in a booking or not.\n",
    "For the bookings file, origin and destination are the columns dep_port and arr_port, respectively.\n",
    "Generate a CSV file with the search data, and an additional field, containing 1 if the search ended up in a booking, and 0 otherwise.\n"
   ]
  },
  {
   "cell_type": "markdown",
   "metadata": {},
   "source": [
    "##### Solving the problem in a sample"
   ]
  },
  {
   "cell_type": "markdown",
   "metadata": {},
   "source": [
    "Opening and cleaning searches"
   ]
  },
  {
   "cell_type": "code",
   "execution_count": 40,
   "id": "218e435d",
   "metadata": {},
   "outputs": [],
   "source": [
    "searches = pd.read_csv(os.path.join('data', 'searches.csv.bz2'), \n",
    "                       sep=\"^\", \n",
    "                       nrows = 100000, \n",
    "                       low_memory=False)"
   ]
  },
  {
   "cell_type": "code",
   "execution_count": 41,
   "metadata": {},
   "outputs": [
    {
     "data": {
      "text/html": [
       "<div>\n",
       "<style scoped>\n",
       "    .dataframe tbody tr th:only-of-type {\n",
       "        vertical-align: middle;\n",
       "    }\n",
       "\n",
       "    .dataframe tbody tr th {\n",
       "        vertical-align: top;\n",
       "    }\n",
       "\n",
       "    .dataframe thead th {\n",
       "        text-align: right;\n",
       "    }\n",
       "</style>\n",
       "<table border=\"1\" class=\"dataframe\">\n",
       "  <thead>\n",
       "    <tr style=\"text-align: right;\">\n",
       "      <th></th>\n",
       "      <th>Date</th>\n",
       "      <th>Time</th>\n",
       "      <th>TxnCode</th>\n",
       "      <th>OfficeID</th>\n",
       "      <th>Country</th>\n",
       "      <th>Origin</th>\n",
       "      <th>Destination</th>\n",
       "      <th>RoundTrip</th>\n",
       "      <th>NbSegments</th>\n",
       "      <th>Seg1Departure</th>\n",
       "      <th>Seg1Arrival</th>\n",
       "      <th>Seg1Date</th>\n",
       "      <th>Seg1Carrier</th>\n",
       "      <th>Seg1BookingCode</th>\n",
       "      <th>Seg2Departure</th>\n",
       "      <th>Seg2Arrival</th>\n",
       "      <th>Seg2Date</th>\n",
       "      <th>Seg2Carrier</th>\n",
       "      <th>Seg2BookingCode</th>\n",
       "      <th>Seg3Departure</th>\n",
       "      <th>Seg3Arrival</th>\n",
       "      <th>Seg3Date</th>\n",
       "      <th>Seg3Carrier</th>\n",
       "      <th>Seg3BookingCode</th>\n",
       "      <th>Seg4Departure</th>\n",
       "      <th>Seg4Arrival</th>\n",
       "      <th>Seg4Date</th>\n",
       "      <th>Seg4Carrier</th>\n",
       "      <th>Seg4BookingCode</th>\n",
       "      <th>Seg5Departure</th>\n",
       "      <th>Seg5Arrival</th>\n",
       "      <th>Seg5Date</th>\n",
       "      <th>Seg5Carrier</th>\n",
       "      <th>Seg5BookingCode</th>\n",
       "      <th>Seg6Departure</th>\n",
       "      <th>Seg6Arrival</th>\n",
       "      <th>Seg6Date</th>\n",
       "      <th>Seg6Carrier</th>\n",
       "      <th>Seg6BookingCode</th>\n",
       "      <th>From</th>\n",
       "      <th>IsPublishedForNeg</th>\n",
       "      <th>IsFromInternet</th>\n",
       "      <th>IsFromVista</th>\n",
       "      <th>TerminalID</th>\n",
       "      <th>InternetOffice</th>\n",
       "    </tr>\n",
       "  </thead>\n",
       "  <tbody>\n",
       "    <tr>\n",
       "      <th>0</th>\n",
       "      <td>2013-01-01</td>\n",
       "      <td>20:25:57</td>\n",
       "      <td>MPT</td>\n",
       "      <td>624d8c3ac0b3a7ca03e3c167e0f48327</td>\n",
       "      <td>DE</td>\n",
       "      <td>TXL</td>\n",
       "      <td>AUH</td>\n",
       "      <td>1</td>\n",
       "      <td>2</td>\n",
       "      <td>TXL</td>\n",
       "      <td>AUH</td>\n",
       "      <td>2013-01-26</td>\n",
       "      <td>D2</td>\n",
       "      <td>NaN</td>\n",
       "      <td>AUH</td>\n",
       "      <td>TXL</td>\n",
       "      <td>2013-02-02</td>\n",
       "      <td>D2</td>\n",
       "      <td>NaN</td>\n",
       "      <td>NaN</td>\n",
       "      <td>NaN</td>\n",
       "      <td>NaN</td>\n",
       "      <td>NaN</td>\n",
       "      <td>NaN</td>\n",
       "      <td>NaN</td>\n",
       "      <td>NaN</td>\n",
       "      <td>NaN</td>\n",
       "      <td>NaN</td>\n",
       "      <td>NaN</td>\n",
       "      <td>NaN</td>\n",
       "      <td>NaN</td>\n",
       "      <td>NaN</td>\n",
       "      <td>NaN</td>\n",
       "      <td>NaN</td>\n",
       "      <td>NaN</td>\n",
       "      <td>NaN</td>\n",
       "      <td>NaN</td>\n",
       "      <td>NaN</td>\n",
       "      <td>NaN</td>\n",
       "      <td>1ASIWS</td>\n",
       "      <td>0</td>\n",
       "      <td>0</td>\n",
       "      <td>0</td>\n",
       "      <td>d41d8cd98f00b204e9800998ecf8427e</td>\n",
       "      <td>FRA</td>\n",
       "    </tr>\n",
       "    <tr>\n",
       "      <th>1</th>\n",
       "      <td>2013-01-01</td>\n",
       "      <td>10:15:33</td>\n",
       "      <td>MPT</td>\n",
       "      <td>b0af35b31588dc4ab06d5cf2986e8e02</td>\n",
       "      <td>MD</td>\n",
       "      <td>ATH</td>\n",
       "      <td>MIL</td>\n",
       "      <td>0</td>\n",
       "      <td>1</td>\n",
       "      <td>ATH</td>\n",
       "      <td>MIL</td>\n",
       "      <td>2013-01-04</td>\n",
       "      <td>NaN</td>\n",
       "      <td>NaN</td>\n",
       "      <td>NaN</td>\n",
       "      <td>NaN</td>\n",
       "      <td>NaN</td>\n",
       "      <td>NaN</td>\n",
       "      <td>NaN</td>\n",
       "      <td>NaN</td>\n",
       "      <td>NaN</td>\n",
       "      <td>NaN</td>\n",
       "      <td>NaN</td>\n",
       "      <td>NaN</td>\n",
       "      <td>NaN</td>\n",
       "      <td>NaN</td>\n",
       "      <td>NaN</td>\n",
       "      <td>NaN</td>\n",
       "      <td>NaN</td>\n",
       "      <td>NaN</td>\n",
       "      <td>NaN</td>\n",
       "      <td>NaN</td>\n",
       "      <td>NaN</td>\n",
       "      <td>NaN</td>\n",
       "      <td>NaN</td>\n",
       "      <td>NaN</td>\n",
       "      <td>NaN</td>\n",
       "      <td>NaN</td>\n",
       "      <td>NaN</td>\n",
       "      <td>1ASIWS</td>\n",
       "      <td>0</td>\n",
       "      <td>0</td>\n",
       "      <td>0</td>\n",
       "      <td>d41d8cd98f00b204e9800998ecf8427e</td>\n",
       "      <td>KIV</td>\n",
       "    </tr>\n",
       "    <tr>\n",
       "      <th>2</th>\n",
       "      <td>2013-01-01</td>\n",
       "      <td>18:04:49</td>\n",
       "      <td>MPT</td>\n",
       "      <td>3561a60621de06ab1badc8ca55699ef3</td>\n",
       "      <td>US</td>\n",
       "      <td>ICT</td>\n",
       "      <td>SFO</td>\n",
       "      <td>1</td>\n",
       "      <td>2</td>\n",
       "      <td>ICT</td>\n",
       "      <td>SFO</td>\n",
       "      <td>2013-08-02</td>\n",
       "      <td>NaN</td>\n",
       "      <td>NaN</td>\n",
       "      <td>SFO</td>\n",
       "      <td>ICT</td>\n",
       "      <td>2013-08-09</td>\n",
       "      <td>NaN</td>\n",
       "      <td>NaN</td>\n",
       "      <td>NaN</td>\n",
       "      <td>NaN</td>\n",
       "      <td>NaN</td>\n",
       "      <td>NaN</td>\n",
       "      <td>NaN</td>\n",
       "      <td>NaN</td>\n",
       "      <td>NaN</td>\n",
       "      <td>NaN</td>\n",
       "      <td>NaN</td>\n",
       "      <td>NaN</td>\n",
       "      <td>NaN</td>\n",
       "      <td>NaN</td>\n",
       "      <td>NaN</td>\n",
       "      <td>NaN</td>\n",
       "      <td>NaN</td>\n",
       "      <td>NaN</td>\n",
       "      <td>NaN</td>\n",
       "      <td>NaN</td>\n",
       "      <td>NaN</td>\n",
       "      <td>NaN</td>\n",
       "      <td>1ASIWS</td>\n",
       "      <td>0</td>\n",
       "      <td>0</td>\n",
       "      <td>0</td>\n",
       "      <td>d41d8cd98f00b204e9800998ecf8427e</td>\n",
       "      <td>NYC</td>\n",
       "    </tr>\n",
       "    <tr>\n",
       "      <th>3</th>\n",
       "      <td>2013-01-01</td>\n",
       "      <td>17:42:40</td>\n",
       "      <td>FXP</td>\n",
       "      <td>1864e5e8013d9414150e91d26b6a558b</td>\n",
       "      <td>SE</td>\n",
       "      <td>RNB</td>\n",
       "      <td>ARN</td>\n",
       "      <td>0</td>\n",
       "      <td>1</td>\n",
       "      <td>RNB</td>\n",
       "      <td>ARN</td>\n",
       "      <td>2013-01-02</td>\n",
       "      <td>DU</td>\n",
       "      <td>W</td>\n",
       "      <td>NaN</td>\n",
       "      <td>NaN</td>\n",
       "      <td>NaN</td>\n",
       "      <td>NaN</td>\n",
       "      <td>NaN</td>\n",
       "      <td>NaN</td>\n",
       "      <td>NaN</td>\n",
       "      <td>NaN</td>\n",
       "      <td>NaN</td>\n",
       "      <td>NaN</td>\n",
       "      <td>NaN</td>\n",
       "      <td>NaN</td>\n",
       "      <td>NaN</td>\n",
       "      <td>NaN</td>\n",
       "      <td>NaN</td>\n",
       "      <td>NaN</td>\n",
       "      <td>NaN</td>\n",
       "      <td>NaN</td>\n",
       "      <td>NaN</td>\n",
       "      <td>NaN</td>\n",
       "      <td>NaN</td>\n",
       "      <td>NaN</td>\n",
       "      <td>NaN</td>\n",
       "      <td>NaN</td>\n",
       "      <td>NaN</td>\n",
       "      <td>1ASI</td>\n",
       "      <td>0</td>\n",
       "      <td>0</td>\n",
       "      <td>0</td>\n",
       "      <td>d41d8cd98f00b204e9800998ecf8427e</td>\n",
       "      <td>STO</td>\n",
       "    </tr>\n",
       "    <tr>\n",
       "      <th>4</th>\n",
       "      <td>2013-01-01</td>\n",
       "      <td>17:48:29</td>\n",
       "      <td>MPT</td>\n",
       "      <td>1ec336348f44207d2e0027dc3a68c118</td>\n",
       "      <td>NO</td>\n",
       "      <td>OSL</td>\n",
       "      <td>MAD</td>\n",
       "      <td>1</td>\n",
       "      <td>2</td>\n",
       "      <td>OSL</td>\n",
       "      <td>MAD</td>\n",
       "      <td>2013-03-22</td>\n",
       "      <td>NaN</td>\n",
       "      <td>NaN</td>\n",
       "      <td>MAD</td>\n",
       "      <td>OSL</td>\n",
       "      <td>2013-03-31</td>\n",
       "      <td>NaN</td>\n",
       "      <td>NaN</td>\n",
       "      <td>NaN</td>\n",
       "      <td>NaN</td>\n",
       "      <td>NaN</td>\n",
       "      <td>NaN</td>\n",
       "      <td>NaN</td>\n",
       "      <td>NaN</td>\n",
       "      <td>NaN</td>\n",
       "      <td>NaN</td>\n",
       "      <td>NaN</td>\n",
       "      <td>NaN</td>\n",
       "      <td>NaN</td>\n",
       "      <td>NaN</td>\n",
       "      <td>NaN</td>\n",
       "      <td>NaN</td>\n",
       "      <td>NaN</td>\n",
       "      <td>NaN</td>\n",
       "      <td>NaN</td>\n",
       "      <td>NaN</td>\n",
       "      <td>NaN</td>\n",
       "      <td>NaN</td>\n",
       "      <td>1ASIWS</td>\n",
       "      <td>0</td>\n",
       "      <td>0</td>\n",
       "      <td>0</td>\n",
       "      <td>d41d8cd98f00b204e9800998ecf8427e</td>\n",
       "      <td>OSL</td>\n",
       "    </tr>\n",
       "  </tbody>\n",
       "</table>\n",
       "</div>"
      ],
      "text/plain": [
       "         Date      Time TxnCode                          OfficeID Country  \\\n",
       "0  2013-01-01  20:25:57     MPT  624d8c3ac0b3a7ca03e3c167e0f48327      DE   \n",
       "1  2013-01-01  10:15:33     MPT  b0af35b31588dc4ab06d5cf2986e8e02      MD   \n",
       "2  2013-01-01  18:04:49     MPT  3561a60621de06ab1badc8ca55699ef3      US   \n",
       "3  2013-01-01  17:42:40     FXP  1864e5e8013d9414150e91d26b6a558b      SE   \n",
       "4  2013-01-01  17:48:29     MPT  1ec336348f44207d2e0027dc3a68c118      NO   \n",
       "\n",
       "  Origin Destination  RoundTrip  NbSegments Seg1Departure Seg1Arrival  \\\n",
       "0    TXL         AUH          1           2           TXL         AUH   \n",
       "1    ATH         MIL          0           1           ATH         MIL   \n",
       "2    ICT         SFO          1           2           ICT         SFO   \n",
       "3    RNB         ARN          0           1           RNB         ARN   \n",
       "4    OSL         MAD          1           2           OSL         MAD   \n",
       "\n",
       "     Seg1Date Seg1Carrier Seg1BookingCode Seg2Departure Seg2Arrival  \\\n",
       "0  2013-01-26          D2             NaN           AUH         TXL   \n",
       "1  2013-01-04         NaN             NaN           NaN         NaN   \n",
       "2  2013-08-02         NaN             NaN           SFO         ICT   \n",
       "3  2013-01-02          DU               W           NaN         NaN   \n",
       "4  2013-03-22         NaN             NaN           MAD         OSL   \n",
       "\n",
       "     Seg2Date Seg2Carrier Seg2BookingCode Seg3Departure Seg3Arrival Seg3Date  \\\n",
       "0  2013-02-02          D2             NaN           NaN         NaN      NaN   \n",
       "1         NaN         NaN             NaN           NaN         NaN      NaN   \n",
       "2  2013-08-09         NaN             NaN           NaN         NaN      NaN   \n",
       "3         NaN         NaN             NaN           NaN         NaN      NaN   \n",
       "4  2013-03-31         NaN             NaN           NaN         NaN      NaN   \n",
       "\n",
       "  Seg3Carrier Seg3BookingCode Seg4Departure Seg4Arrival Seg4Date Seg4Carrier  \\\n",
       "0         NaN             NaN           NaN         NaN      NaN         NaN   \n",
       "1         NaN             NaN           NaN         NaN      NaN         NaN   \n",
       "2         NaN             NaN           NaN         NaN      NaN         NaN   \n",
       "3         NaN             NaN           NaN         NaN      NaN         NaN   \n",
       "4         NaN             NaN           NaN         NaN      NaN         NaN   \n",
       "\n",
       "  Seg4BookingCode Seg5Departure Seg5Arrival Seg5Date Seg5Carrier  \\\n",
       "0             NaN           NaN         NaN      NaN         NaN   \n",
       "1             NaN           NaN         NaN      NaN         NaN   \n",
       "2             NaN           NaN         NaN      NaN         NaN   \n",
       "3             NaN           NaN         NaN      NaN         NaN   \n",
       "4             NaN           NaN         NaN      NaN         NaN   \n",
       "\n",
       "  Seg5BookingCode Seg6Departure Seg6Arrival Seg6Date Seg6Carrier  \\\n",
       "0             NaN           NaN         NaN      NaN         NaN   \n",
       "1             NaN           NaN         NaN      NaN         NaN   \n",
       "2             NaN           NaN         NaN      NaN         NaN   \n",
       "3             NaN           NaN         NaN      NaN         NaN   \n",
       "4             NaN           NaN         NaN      NaN         NaN   \n",
       "\n",
       "  Seg6BookingCode    From  IsPublishedForNeg  IsFromInternet  IsFromVista  \\\n",
       "0             NaN  1ASIWS                  0               0            0   \n",
       "1             NaN  1ASIWS                  0               0            0   \n",
       "2             NaN  1ASIWS                  0               0            0   \n",
       "3             NaN    1ASI                  0               0            0   \n",
       "4             NaN  1ASIWS                  0               0            0   \n",
       "\n",
       "                         TerminalID InternetOffice  \n",
       "0  d41d8cd98f00b204e9800998ecf8427e            FRA  \n",
       "1  d41d8cd98f00b204e9800998ecf8427e            KIV  \n",
       "2  d41d8cd98f00b204e9800998ecf8427e            NYC  \n",
       "3  d41d8cd98f00b204e9800998ecf8427e            STO  \n",
       "4  d41d8cd98f00b204e9800998ecf8427e            OSL  "
      ]
     },
     "execution_count": 41,
     "metadata": {},
     "output_type": "execute_result"
    }
   ],
   "source": [
    "searches.head()"
   ]
  },
  {
   "cell_type": "markdown",
   "metadata": {},
   "source": [
    "Select relevant columns in searches\n",
    "We are going to match searches for a particular flight (date and itinerary) on a specific date  with bookings made for the same flight on that date. Hence, we select the columns that correspond to this information."
   ]
  },
  {
   "cell_type": "code",
   "execution_count": 42,
   "id": "2965f7d3",
   "metadata": {},
   "outputs": [],
   "source": [
    "searches_select = searches[['Date', 'Seg1Date', 'Origin', 'Destination']]"
   ]
  },
  {
   "cell_type": "code",
   "execution_count": 43,
   "metadata": {},
   "outputs": [
    {
     "name": "stdout",
     "output_type": "stream",
     "text": [
      "<class 'pandas.core.frame.DataFrame'>\n",
      "RangeIndex: 100000 entries, 0 to 99999\n",
      "Data columns (total 4 columns):\n",
      " #   Column       Non-Null Count   Dtype \n",
      "---  ------       --------------   ----- \n",
      " 0   Date         100000 non-null  object\n",
      " 1   Seg1Date     99605 non-null   object\n",
      " 2   Origin       100000 non-null  object\n",
      " 3   Destination  100000 non-null  object\n",
      "dtypes: object(4)\n",
      "memory usage: 3.1+ MB\n"
     ]
    }
   ],
   "source": [
    "searches_select.info()"
   ]
  },
  {
   "cell_type": "markdown",
   "metadata": {},
   "source": [
    "##### Opening and cleaning bookings"
   ]
  },
  {
   "cell_type": "code",
   "execution_count": 44,
   "id": "cfcb5dca",
   "metadata": {},
   "outputs": [],
   "source": [
    "bookings = pd.read_csv(os.path.join('data', 'bookings.csv.bz2'),\n",
    "                       sep=\"^\",\n",
    "                       nrows = 100000)"
   ]
  },
  {
   "cell_type": "markdown",
   "metadata": {},
   "source": [
    "Cleaning column names\n",
    "\n",
    "Column names are messed up, containing lots of empty spaces. I decide to rename the columns to make them easier to work with."
   ]
  },
  {
   "cell_type": "code",
   "execution_count": 45,
   "metadata": {},
   "outputs": [],
   "source": [
    "bookings_renamed = bookings.rename(columns={'cre_date           ': 'cre_date', 'brd_time           ': 'brd_time'})"
   ]
  },
  {
   "cell_type": "markdown",
   "metadata": {},
   "source": [
    "Selecting relevant columns booking\n",
    "\n",
    "As for the 'searches' file, I selected the columns with the info that corresponds to the date of reservation and the itinerary of the flight (date, origin and destination)"
   ]
  },
  {
   "cell_type": "code",
   "execution_count": 46,
   "id": "4966ed9c",
   "metadata": {},
   "outputs": [
    {
     "name": "stdout",
     "output_type": "stream",
     "text": [
      "<class 'pandas.core.frame.DataFrame'>\n",
      "RangeIndex: 100000 entries, 0 to 99999\n",
      "Data columns (total 4 columns):\n",
      " #   Column    Non-Null Count   Dtype \n",
      "---  ------    --------------   ----- \n",
      " 0   cre_date  100000 non-null  object\n",
      " 1   brd_time  100000 non-null  object\n",
      " 2   arr_port  100000 non-null  object\n",
      " 3   dep_port  100000 non-null  object\n",
      "dtypes: object(4)\n",
      "memory usage: 3.1+ MB\n"
     ]
    }
   ],
   "source": [
    "bookings_renamed_select = bookings_renamed[['cre_date', 'brd_time', 'arr_port', 'dep_port']]\n",
    "bookings_renamed_select.info()"
   ]
  },
  {
   "cell_type": "markdown",
   "metadata": {},
   "source": [
    "Reducing data complexity\n",
    "\n",
    "Using the 'str' method I reduced the dates from a string containing date and hour to only the date. Arrival and departure airports needed to be reduced to the first the characters because there were empty spaces that made it impossible to match with the equivalent data in the 'searches' file."
   ]
  },
  {
   "cell_type": "code",
   "execution_count": 47,
   "metadata": {},
   "outputs": [],
   "source": [
    "bookings_renamed_select['cre_date'] = bookings_renamed_select['cre_date'].str[:10]\n",
    "bookings_renamed_select['brd_time'] = bookings_renamed_select['brd_time'].str[:10]\n",
    "bookings_renamed_select['arr_port'] = bookings_renamed_select['arr_port'].str[:3]\n",
    "bookings_renamed_select['dep_port'] = bookings_renamed_select['dep_port'].str[:3]"
   ]
  },
  {
   "cell_type": "markdown",
   "metadata": {},
   "source": [
    "Removing duplicates\n",
    "\n",
    "By removing irrelevant columns I have generated many duplicates with the same dates, origin and destination, that's why I included a step to remove duplicates."
   ]
  },
  {
   "cell_type": "code",
   "execution_count": 48,
   "id": "711b8dcc",
   "metadata": {},
   "outputs": [],
   "source": [
    "bookings_renamed_select_nodups = bookings_renamed_select.drop_duplicates(keep = 'first')"
   ]
  },
  {
   "cell_type": "markdown",
   "metadata": {},
   "source": [
    "Renaming columns\n",
    "\n",
    "I renamed the columns to match the name column in the 'searches' file. This made the merging of the files easier."
   ]
  },
  {
   "cell_type": "code",
   "execution_count": 49,
   "id": "57fdcf6c",
   "metadata": {},
   "outputs": [],
   "source": [
    "books = bookings_renamed_select_nodups.rename(columns={'cre_date':'Date', 'brd_time':'Seg1Date', 'arr_port':'Destination', 'dep_port':'Origin'})"
   ]
  },
  {
   "cell_type": "code",
   "execution_count": 50,
   "metadata": {},
   "outputs": [
    {
     "name": "stdout",
     "output_type": "stream",
     "text": [
      "<class 'pandas.core.frame.DataFrame'>\n",
      "Index: 66404 entries, 0 to 99999\n",
      "Data columns (total 4 columns):\n",
      " #   Column       Non-Null Count  Dtype \n",
      "---  ------       --------------  ----- \n",
      " 0   Date         66404 non-null  object\n",
      " 1   Seg1Date     66404 non-null  object\n",
      " 2   Destination  66404 non-null  object\n",
      " 3   Origin       66404 non-null  object\n",
      "dtypes: object(4)\n",
      "memory usage: 2.5+ MB\n"
     ]
    }
   ],
   "source": [
    "books.info()"
   ]
  },
  {
   "cell_type": "markdown",
   "metadata": {},
   "source": [
    "Function compiling all the cleaning made on 'bookings'"
   ]
  },
  {
   "cell_type": "code",
   "execution_count": 51,
   "metadata": {},
   "outputs": [],
   "source": [
    "def clean_bookings(df):\n",
    "    #rename columns\n",
    "    renamed = df.rename(columns={'cre_date           ': 'Date', \n",
    "                                                'brd_time           ': 'Seg1Date', \n",
    "                                                'arr_port':'Destination', \n",
    "                                                'dep_port':'Origin'})\n",
    "    #select columns\n",
    "    selected = renamed[['Date', 'Seg1Date', 'Destination', 'Origin']]\n",
    "    #reduce data complexity\n",
    "    selected['Date'] = selected['Date'].str[:10]\n",
    "    selected['Seg1Date'] = selected['Seg1Date'].str[:10]\n",
    "    selected['Destination'] = selected['Destination'].str[:3]\n",
    "    selected['Origin'] = selected['Origin'].str[:3]\n",
    "    #remove duplicates\n",
    "    clean_df = selected.drop_duplicates(keep = 'first')\n",
    "    return clean_df\n",
    "    "
   ]
  },
  {
   "cell_type": "code",
   "execution_count": 52,
   "metadata": {},
   "outputs": [
    {
     "name": "stdout",
     "output_type": "stream",
     "text": [
      "<class 'pandas.core.frame.DataFrame'>\n",
      "Index: 66404 entries, 0 to 99999\n",
      "Data columns (total 4 columns):\n",
      " #   Column       Non-Null Count  Dtype \n",
      "---  ------       --------------  ----- \n",
      " 0   Date         66404 non-null  object\n",
      " 1   Seg1Date     66404 non-null  object\n",
      " 2   Destination  66404 non-null  object\n",
      " 3   Origin       66404 non-null  object\n",
      "dtypes: object(4)\n",
      "memory usage: 2.5+ MB\n"
     ]
    }
   ],
   "source": [
    "books_func = clean_bookings(bookings)\n",
    "books_func.info()"
   ]
  },
  {
   "cell_type": "markdown",
   "metadata": {},
   "source": [
    "Merging the files 'searches' and 'bookings'\n",
    "\n",
    "I performed a left merge on the 'searches' dataframe, so the data on this dataframe remains. Thanks to the indicator, a new column named 'Booked' was generated that indicated wheter the same info was present (both) or not (left_only) in the 'bookings' dataframe."
   ]
  },
  {
   "cell_type": "code",
   "execution_count": 53,
   "metadata": {},
   "outputs": [],
   "source": [
    "merged_df = pd.merge(searches_select, books, \n",
    "                     on=['Date', 'Seg1Date', 'Origin', 'Destination'], \n",
    "                     how='left', \n",
    "                     indicator='Booked')"
   ]
  },
  {
   "cell_type": "markdown",
   "metadata": {},
   "source": [
    "As asked by the problem statement, I changed the values of the 'Booked' column to 1 and 0."
   ]
  },
  {
   "cell_type": "code",
   "execution_count": 54,
   "metadata": {},
   "outputs": [],
   "source": [
    "merged_df['Booked'] = np.where(merged_df['Booked']=='both', 1, 0)"
   ]
  },
  {
   "cell_type": "code",
   "execution_count": 55,
   "metadata": {},
   "outputs": [
    {
     "data": {
      "text/html": [
       "<div>\n",
       "<style scoped>\n",
       "    .dataframe tbody tr th:only-of-type {\n",
       "        vertical-align: middle;\n",
       "    }\n",
       "\n",
       "    .dataframe tbody tr th {\n",
       "        vertical-align: top;\n",
       "    }\n",
       "\n",
       "    .dataframe thead th {\n",
       "        text-align: right;\n",
       "    }\n",
       "</style>\n",
       "<table border=\"1\" class=\"dataframe\">\n",
       "  <thead>\n",
       "    <tr style=\"text-align: right;\">\n",
       "      <th></th>\n",
       "      <th>Booked</th>\n",
       "    </tr>\n",
       "  </thead>\n",
       "  <tbody>\n",
       "    <tr>\n",
       "      <th>count</th>\n",
       "      <td>100000.00000</td>\n",
       "    </tr>\n",
       "    <tr>\n",
       "      <th>mean</th>\n",
       "      <td>0.00038</td>\n",
       "    </tr>\n",
       "    <tr>\n",
       "      <th>std</th>\n",
       "      <td>0.01949</td>\n",
       "    </tr>\n",
       "    <tr>\n",
       "      <th>min</th>\n",
       "      <td>0.00000</td>\n",
       "    </tr>\n",
       "    <tr>\n",
       "      <th>25%</th>\n",
       "      <td>0.00000</td>\n",
       "    </tr>\n",
       "    <tr>\n",
       "      <th>50%</th>\n",
       "      <td>0.00000</td>\n",
       "    </tr>\n",
       "    <tr>\n",
       "      <th>75%</th>\n",
       "      <td>0.00000</td>\n",
       "    </tr>\n",
       "    <tr>\n",
       "      <th>max</th>\n",
       "      <td>1.00000</td>\n",
       "    </tr>\n",
       "  </tbody>\n",
       "</table>\n",
       "</div>"
      ],
      "text/plain": [
       "             Booked\n",
       "count  100000.00000\n",
       "mean        0.00038\n",
       "std         0.01949\n",
       "min         0.00000\n",
       "25%         0.00000\n",
       "50%         0.00000\n",
       "75%         0.00000\n",
       "max         1.00000"
      ]
     },
     "execution_count": 55,
     "metadata": {},
     "output_type": "execute_result"
    }
   ],
   "source": [
    "merged_df.describe()"
   ]
  },
  {
   "cell_type": "markdown",
   "metadata": {},
   "source": [
    "Function that compiles the operations necessary for the merge"
   ]
  },
  {
   "cell_type": "code",
   "execution_count": 56,
   "metadata": {},
   "outputs": [],
   "source": [
    "def merge_dataframes(df1, df2):\n",
    "    merged_df = pd.merge(df1, df2, \n",
    "                     on=['Date', 'Seg1Date', 'Origin', 'Destination'], \n",
    "                     how='left', \n",
    "                     indicator='Booked')\n",
    "    merged_df['Booked'] = np.where(merged_df['Booked']=='both', 1, 0)\n",
    "    return merged_df"
   ]
  },
  {
   "cell_type": "code",
   "execution_count": 57,
   "metadata": {},
   "outputs": [
    {
     "data": {
      "text/html": [
       "<div>\n",
       "<style scoped>\n",
       "    .dataframe tbody tr th:only-of-type {\n",
       "        vertical-align: middle;\n",
       "    }\n",
       "\n",
       "    .dataframe tbody tr th {\n",
       "        vertical-align: top;\n",
       "    }\n",
       "\n",
       "    .dataframe thead th {\n",
       "        text-align: right;\n",
       "    }\n",
       "</style>\n",
       "<table border=\"1\" class=\"dataframe\">\n",
       "  <thead>\n",
       "    <tr style=\"text-align: right;\">\n",
       "      <th></th>\n",
       "      <th>Booked</th>\n",
       "    </tr>\n",
       "  </thead>\n",
       "  <tbody>\n",
       "    <tr>\n",
       "      <th>count</th>\n",
       "      <td>100000.00000</td>\n",
       "    </tr>\n",
       "    <tr>\n",
       "      <th>mean</th>\n",
       "      <td>0.00038</td>\n",
       "    </tr>\n",
       "    <tr>\n",
       "      <th>std</th>\n",
       "      <td>0.01949</td>\n",
       "    </tr>\n",
       "    <tr>\n",
       "      <th>min</th>\n",
       "      <td>0.00000</td>\n",
       "    </tr>\n",
       "    <tr>\n",
       "      <th>25%</th>\n",
       "      <td>0.00000</td>\n",
       "    </tr>\n",
       "    <tr>\n",
       "      <th>50%</th>\n",
       "      <td>0.00000</td>\n",
       "    </tr>\n",
       "    <tr>\n",
       "      <th>75%</th>\n",
       "      <td>0.00000</td>\n",
       "    </tr>\n",
       "    <tr>\n",
       "      <th>max</th>\n",
       "      <td>1.00000</td>\n",
       "    </tr>\n",
       "  </tbody>\n",
       "</table>\n",
       "</div>"
      ],
      "text/plain": [
       "             Booked\n",
       "count  100000.00000\n",
       "mean        0.00038\n",
       "std         0.01949\n",
       "min         0.00000\n",
       "25%         0.00000\n",
       "50%         0.00000\n",
       "75%         0.00000\n",
       "max         1.00000"
      ]
     },
     "execution_count": 57,
     "metadata": {},
     "output_type": "execute_result"
    }
   ],
   "source": [
    "merge_dataframes(searches_select, books).describe()"
   ]
  },
  {
   "cell_type": "markdown",
   "metadata": {},
   "source": [
    "##### Solving the problem using chunks"
   ]
  },
  {
   "cell_type": "markdown",
   "metadata": {},
   "source": [
    "In order to resolve the problem using chunks, 'bookings' must be iterated for every chunk of 'searches', since I needed to check if every entry in 'searches'  was present in the whole 'bookings' dataset, not in a particular chunk.\n",
    "\n",
    "This complicates the resolution of the problem because every 'searches' chunk is going to be matched several times. To solve this issue, I took the following approach. At the end of every 'bookings' loop, the merged dataframe of 'searches' and 'bookings' is concatenated sequencially. This generates a dataframe with multiple duplicates of two types:\n",
    "\n",
    "- Entries that are not matched, so their value for 'Booked' is 0\n",
    "- Entries that match in one chunk and not in others, so they have mixed 'Booked' values 1 and 0.\n",
    "\n",
    "The cleaning of these duplicates is made with a function that selects this entries and removes the duplicates. This removal is made by index and not by value because I wanted to keep all data so I could add the column 'Booked' to the original 'searches' dataframe."
   ]
  },
  {
   "cell_type": "code",
   "execution_count": 58,
   "metadata": {},
   "outputs": [],
   "source": [
    "def cleaning_partial(df):\n",
    "    # select entries that match in one chunk and not in others\n",
    "    df_booked = df[(df.duplicated(['Date', 'Seg1Date', 'Origin', 'Destination', 'Booked'], keep=False))==False].sort_index()\n",
    "    # change their 'Booked' values to 1 so they become perfect duplicates\n",
    "    df_booked['Booked'] = 1\n",
    "    # select entries that don't match\n",
    "    df_notbooked = df[(df.duplicated(['Date', 'Seg1Date', 'Origin', 'Destination', 'Booked'], keep=False))==True].sort_index()\n",
    "    # concat both kinds of entries\n",
    "    df_clean = pd.concat([df_booked, df_notbooked])\n",
    "    # clean duplicates by their indexes. \n",
    "    return df_clean[(df_clean.index.duplicated(keep='first'))==False].sort_index()"
   ]
  },
  {
   "cell_type": "code",
   "execution_count": 59,
   "metadata": {},
   "outputs": [],
   "source": [
    "searches = pd.read_csv(os.path.join('data', 'searches.csv.bz2'),\n",
    "                       sep=\"^\",\n",
    "                       nrows=100000,\n",
    "                       chunksize=50000)"
   ]
  },
  {
   "cell_type": "code",
   "execution_count": 60,
   "metadata": {},
   "outputs": [],
   "source": [
    "partial_results = []\n",
    "for search_chunk in searches:\n",
    "    #clean search_chunk\n",
    "    search_chunk_clean = search_chunk[['Date', 'Seg1Date', 'Origin', 'Destination']]\n",
    "    #load bookings\n",
    "    bookings = pd.read_csv(os.path.join('data', 'bookings.csv.bz2'),\n",
    "                       sep=\"^\",\n",
    "                       usecols=(['cre_date           ', 'brd_time           ', 'arr_port', 'dep_port']),\n",
    "                       nrows = 100000,\n",
    "                       chunksize=50000)\n",
    "    partial_df = pd.DataFrame()\n",
    "    for book_chunk in bookings:\n",
    "        #clean bookings\n",
    "        books = clean_bookings(book_chunk)\n",
    "        \n",
    "        #merge the searches chunk with the bookings chunk\n",
    "        merged_df = merge_dataframes(search_chunk_clean, books)\n",
    "\n",
    "        #concat bookings chunks\n",
    "        partial_df = pd.concat([partial_df, merged_df])\n",
    "\n",
    "    #removed duplicates from each searches chunk\n",
    "    partial_result = cleaning_partial(partial_df)\n",
    "\n",
    "    #add column to searches chunk\n",
    "    search_chunk['Booked'] = list(partial_result['Booked'])\n",
    "\n",
    "    partial_results.append(search_chunk)"
   ]
  },
  {
   "cell_type": "code",
   "execution_count": 61,
   "metadata": {},
   "outputs": [
    {
     "data": {
      "text/html": [
       "<div>\n",
       "<style scoped>\n",
       "    .dataframe tbody tr th:only-of-type {\n",
       "        vertical-align: middle;\n",
       "    }\n",
       "\n",
       "    .dataframe tbody tr th {\n",
       "        vertical-align: top;\n",
       "    }\n",
       "\n",
       "    .dataframe thead th {\n",
       "        text-align: right;\n",
       "    }\n",
       "</style>\n",
       "<table border=\"1\" class=\"dataframe\">\n",
       "  <thead>\n",
       "    <tr style=\"text-align: right;\">\n",
       "      <th></th>\n",
       "      <th>RoundTrip</th>\n",
       "      <th>NbSegments</th>\n",
       "      <th>IsPublishedForNeg</th>\n",
       "      <th>IsFromInternet</th>\n",
       "      <th>IsFromVista</th>\n",
       "      <th>Booked</th>\n",
       "    </tr>\n",
       "  </thead>\n",
       "  <tbody>\n",
       "    <tr>\n",
       "      <th>count</th>\n",
       "      <td>100000.000000</td>\n",
       "      <td>100000.000000</td>\n",
       "      <td>100000.0</td>\n",
       "      <td>100000.0</td>\n",
       "      <td>100000.0</td>\n",
       "      <td>100000.00000</td>\n",
       "    </tr>\n",
       "    <tr>\n",
       "      <th>mean</th>\n",
       "      <td>0.704660</td>\n",
       "      <td>1.830380</td>\n",
       "      <td>0.0</td>\n",
       "      <td>0.0</td>\n",
       "      <td>0.0</td>\n",
       "      <td>0.00038</td>\n",
       "    </tr>\n",
       "    <tr>\n",
       "      <th>std</th>\n",
       "      <td>0.456198</td>\n",
       "      <td>0.718119</td>\n",
       "      <td>0.0</td>\n",
       "      <td>0.0</td>\n",
       "      <td>0.0</td>\n",
       "      <td>0.01949</td>\n",
       "    </tr>\n",
       "    <tr>\n",
       "      <th>min</th>\n",
       "      <td>0.000000</td>\n",
       "      <td>1.000000</td>\n",
       "      <td>0.0</td>\n",
       "      <td>0.0</td>\n",
       "      <td>0.0</td>\n",
       "      <td>0.00000</td>\n",
       "    </tr>\n",
       "    <tr>\n",
       "      <th>25%</th>\n",
       "      <td>0.000000</td>\n",
       "      <td>1.000000</td>\n",
       "      <td>0.0</td>\n",
       "      <td>0.0</td>\n",
       "      <td>0.0</td>\n",
       "      <td>0.00000</td>\n",
       "    </tr>\n",
       "    <tr>\n",
       "      <th>50%</th>\n",
       "      <td>1.000000</td>\n",
       "      <td>2.000000</td>\n",
       "      <td>0.0</td>\n",
       "      <td>0.0</td>\n",
       "      <td>0.0</td>\n",
       "      <td>0.00000</td>\n",
       "    </tr>\n",
       "    <tr>\n",
       "      <th>75%</th>\n",
       "      <td>1.000000</td>\n",
       "      <td>2.000000</td>\n",
       "      <td>0.0</td>\n",
       "      <td>0.0</td>\n",
       "      <td>0.0</td>\n",
       "      <td>0.00000</td>\n",
       "    </tr>\n",
       "    <tr>\n",
       "      <th>max</th>\n",
       "      <td>1.000000</td>\n",
       "      <td>10.000000</td>\n",
       "      <td>0.0</td>\n",
       "      <td>0.0</td>\n",
       "      <td>0.0</td>\n",
       "      <td>1.00000</td>\n",
       "    </tr>\n",
       "  </tbody>\n",
       "</table>\n",
       "</div>"
      ],
      "text/plain": [
       "           RoundTrip     NbSegments  IsPublishedForNeg  IsFromInternet  \\\n",
       "count  100000.000000  100000.000000           100000.0        100000.0   \n",
       "mean        0.704660       1.830380                0.0             0.0   \n",
       "std         0.456198       0.718119                0.0             0.0   \n",
       "min         0.000000       1.000000                0.0             0.0   \n",
       "25%         0.000000       1.000000                0.0             0.0   \n",
       "50%         1.000000       2.000000                0.0             0.0   \n",
       "75%         1.000000       2.000000                0.0             0.0   \n",
       "max         1.000000      10.000000                0.0             0.0   \n",
       "\n",
       "       IsFromVista        Booked  \n",
       "count     100000.0  100000.00000  \n",
       "mean           0.0       0.00038  \n",
       "std            0.0       0.01949  \n",
       "min            0.0       0.00000  \n",
       "25%            0.0       0.00000  \n",
       "50%            0.0       0.00000  \n",
       "75%            0.0       0.00000  \n",
       "max            0.0       1.00000  "
      ]
     },
     "execution_count": 61,
     "metadata": {},
     "output_type": "execute_result"
    }
   ],
   "source": [
    "result = pd.concat(partial_results)\n",
    "result.describe()"
   ]
  },
  {
   "cell_type": "markdown",
   "metadata": {},
   "source": [
    "##### Solving the problem using the entire datasets by writing directly to disc\n",
    "\n",
    "This is the final solution to Exercise 4. In it, instead of saving the results in a list and then concatenat them, I concatenate them directly by writing into a csv file in mode 'a'."
   ]
  },
  {
   "cell_type": "markdown",
   "metadata": {},
   "source": [
    "First I needed to write the file with the header, then the loops will add iteratively the values for every chunk"
   ]
  },
  {
   "cell_type": "code",
   "execution_count": 65,
   "metadata": {},
   "outputs": [],
   "source": [
    "searches = pd.read_csv(os.path.join('data', 'searches.csv.bz2'),\n",
    "                       sep=\"^\",\n",
    "                       nrows=0)\n",
    "searches['Booked'] = 1\n",
    "searches.to_csv('solution.csv', index= False )"
   ]
  },
  {
   "cell_type": "markdown",
   "metadata": {},
   "source": [
    "Then, the loops over the files begin"
   ]
  },
  {
   "cell_type": "code",
   "execution_count": 66,
   "metadata": {},
   "outputs": [],
   "source": [
    "searches = pd.read_csv(os.path.join('data', 'searches.csv.bz2'),\n",
    "                       sep=\"^\",\n",
    "                       chunksize=100000,\n",
    "                       low_memory=False)"
   ]
  },
  {
   "cell_type": "code",
   "execution_count": 67,
   "metadata": {},
   "outputs": [],
   "source": [
    "for search_chunk in searches:\n",
    "    #clean search_chunk\n",
    "    search_chunk_clean = search_chunk[['Date', 'Seg1Date', 'Origin', 'Destination']]\n",
    "    #load bookings\n",
    "    bookings = pd.read_csv(os.path.join('data', 'bookings.csv.bz2'),\n",
    "                       sep=\"^\",\n",
    "                       usecols=(['cre_date           ', 'brd_time           ', 'arr_port', 'dep_port']),\n",
    "                       chunksize=100000)\n",
    "    partial_df = pd.DataFrame()\n",
    "    for book_chunk in bookings:\n",
    "        #clean bookings\n",
    "        books = clean_bookings(book_chunk)\n",
    "        \n",
    "        #merge the searches chunk with the bookings chunk\n",
    "        merged_df = merge_dataframes(search_chunk_clean, books)\n",
    "\n",
    "        #concat bookings chunks\n",
    "        partial_df = pd.concat([partial_df, merged_df])\n",
    "\n",
    "    #removed duplicates from each searches chunk\n",
    "    partial_result = cleaning_partial(partial_df)\n",
    "\n",
    "    #add column to searches chunk\n",
    "    search_chunk['Booked'] = list(partial_result['Booked'])\n",
    "\n",
    "    search_chunk.to_csv('solution.csv', index=False, mode='a', header=False)"
   ]
  },
  {
   "cell_type": "markdown",
   "metadata": {},
   "source": [
    "Checking the solution"
   ]
  },
  {
   "cell_type": "code",
   "execution_count": 68,
   "metadata": {},
   "outputs": [],
   "source": [
    "solution = pd.read_csv('solution.csv', low_memory=False, nrows=10000)"
   ]
  },
  {
   "cell_type": "code",
   "execution_count": 69,
   "metadata": {},
   "outputs": [
    {
     "data": {
      "text/html": [
       "<div>\n",
       "<style scoped>\n",
       "    .dataframe tbody tr th:only-of-type {\n",
       "        vertical-align: middle;\n",
       "    }\n",
       "\n",
       "    .dataframe tbody tr th {\n",
       "        vertical-align: top;\n",
       "    }\n",
       "\n",
       "    .dataframe thead th {\n",
       "        text-align: right;\n",
       "    }\n",
       "</style>\n",
       "<table border=\"1\" class=\"dataframe\">\n",
       "  <thead>\n",
       "    <tr style=\"text-align: right;\">\n",
       "      <th></th>\n",
       "      <th>RoundTrip</th>\n",
       "      <th>NbSegments</th>\n",
       "      <th>IsPublishedForNeg</th>\n",
       "      <th>IsFromInternet</th>\n",
       "      <th>IsFromVista</th>\n",
       "      <th>Booked</th>\n",
       "    </tr>\n",
       "  </thead>\n",
       "  <tbody>\n",
       "    <tr>\n",
       "      <th>count</th>\n",
       "      <td>10000.000000</td>\n",
       "      <td>10000.000000</td>\n",
       "      <td>10000.0</td>\n",
       "      <td>10000.0</td>\n",
       "      <td>10000.0</td>\n",
       "      <td>10000.000000</td>\n",
       "    </tr>\n",
       "    <tr>\n",
       "      <th>mean</th>\n",
       "      <td>0.700700</td>\n",
       "      <td>1.833600</td>\n",
       "      <td>0.0</td>\n",
       "      <td>0.0</td>\n",
       "      <td>0.0</td>\n",
       "      <td>0.000600</td>\n",
       "    </tr>\n",
       "    <tr>\n",
       "      <th>std</th>\n",
       "      <td>0.457974</td>\n",
       "      <td>0.731823</td>\n",
       "      <td>0.0</td>\n",
       "      <td>0.0</td>\n",
       "      <td>0.0</td>\n",
       "      <td>0.024489</td>\n",
       "    </tr>\n",
       "    <tr>\n",
       "      <th>min</th>\n",
       "      <td>0.000000</td>\n",
       "      <td>1.000000</td>\n",
       "      <td>0.0</td>\n",
       "      <td>0.0</td>\n",
       "      <td>0.0</td>\n",
       "      <td>0.000000</td>\n",
       "    </tr>\n",
       "    <tr>\n",
       "      <th>25%</th>\n",
       "      <td>0.000000</td>\n",
       "      <td>1.000000</td>\n",
       "      <td>0.0</td>\n",
       "      <td>0.0</td>\n",
       "      <td>0.0</td>\n",
       "      <td>0.000000</td>\n",
       "    </tr>\n",
       "    <tr>\n",
       "      <th>50%</th>\n",
       "      <td>1.000000</td>\n",
       "      <td>2.000000</td>\n",
       "      <td>0.0</td>\n",
       "      <td>0.0</td>\n",
       "      <td>0.0</td>\n",
       "      <td>0.000000</td>\n",
       "    </tr>\n",
       "    <tr>\n",
       "      <th>75%</th>\n",
       "      <td>1.000000</td>\n",
       "      <td>2.000000</td>\n",
       "      <td>0.0</td>\n",
       "      <td>0.0</td>\n",
       "      <td>0.0</td>\n",
       "      <td>0.000000</td>\n",
       "    </tr>\n",
       "    <tr>\n",
       "      <th>max</th>\n",
       "      <td>1.000000</td>\n",
       "      <td>9.000000</td>\n",
       "      <td>0.0</td>\n",
       "      <td>0.0</td>\n",
       "      <td>0.0</td>\n",
       "      <td>1.000000</td>\n",
       "    </tr>\n",
       "  </tbody>\n",
       "</table>\n",
       "</div>"
      ],
      "text/plain": [
       "          RoundTrip    NbSegments  IsPublishedForNeg  IsFromInternet  \\\n",
       "count  10000.000000  10000.000000            10000.0         10000.0   \n",
       "mean       0.700700      1.833600                0.0             0.0   \n",
       "std        0.457974      0.731823                0.0             0.0   \n",
       "min        0.000000      1.000000                0.0             0.0   \n",
       "25%        0.000000      1.000000                0.0             0.0   \n",
       "50%        1.000000      2.000000                0.0             0.0   \n",
       "75%        1.000000      2.000000                0.0             0.0   \n",
       "max        1.000000      9.000000                0.0             0.0   \n",
       "\n",
       "       IsFromVista        Booked  \n",
       "count      10000.0  10000.000000  \n",
       "mean           0.0      0.000600  \n",
       "std            0.0      0.024489  \n",
       "min            0.0      0.000000  \n",
       "25%            0.0      0.000000  \n",
       "50%            0.0      0.000000  \n",
       "75%            0.0      0.000000  \n",
       "max            0.0      1.000000  "
      ]
     },
     "execution_count": 69,
     "metadata": {},
     "output_type": "execute_result"
    }
   ],
   "source": [
    "solution.describe()"
   ]
  },
  {
   "cell_type": "code",
   "execution_count": 71,
   "metadata": {},
   "outputs": [
    {
     "name": "stdout",
     "output_type": "stream",
     "text": [
      "lines in solutions.csv:  20390199\n",
      "Is the number of lines the same in solutions.csv and searches.csv:  True\n"
     ]
    }
   ],
   "source": [
    "solution_lines = 0\n",
    "with open(os.path.join('solution.csv')) as file:\n",
    "    for line in file.readlines():\n",
    "        solution_lines +=1\n",
    "print('lines in solutions.csv: ', solution_lines)\n",
    "print('Is the number of lines the same in solutions.csv and searches.csv: ', solution_lines == searches_lines)"
   ]
  },
  {
   "cell_type": "markdown",
   "metadata": {},
   "source": [
    "### Exercise 5\n",
    "#### Write a Web Service\n",
    "Wrap the output of the second exercise in a web service that returns the data in JSON format (instead of printing to the standard output)."
   ]
  },
  {
   "cell_type": "markdown",
   "metadata": {},
   "source": [
    "This exercise was made with streamlit. The app 'exercise5.py' is an streamlit application where the parameters 'year' and 'number of airports' can be selected to obtain the table in json format as asked by the problem's statement. To run the app, run the command 'streamlit run exercise.py' in the command line."
   ]
  }
 ],
 "metadata": {
  "kernelspec": {
   "display_name": "Python 3 (ipykernel)",
   "language": "python",
   "name": "python3"
  },
  "language_info": {
   "codemirror_mode": {
    "name": "ipython",
    "version": 3
   },
   "file_extension": ".py",
   "mimetype": "text/x-python",
   "name": "python",
   "nbconvert_exporter": "python",
   "pygments_lexer": "ipython3",
   "version": "3.12.0"
  }
 },
 "nbformat": 4,
 "nbformat_minor": 5
}
